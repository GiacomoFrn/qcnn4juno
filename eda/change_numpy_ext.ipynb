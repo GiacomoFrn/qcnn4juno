{
 "cells": [
  {
   "cell_type": "code",
   "execution_count": 13,
   "metadata": {},
   "outputs": [],
   "source": [
    "import numpy as np\n",
    "import glob\n",
    "from tqdm import tqdm"
   ]
  },
  {
   "cell_type": "code",
   "execution_count": 6,
   "metadata": {},
   "outputs": [
    {
     "data": {
      "text/plain": [
       "700"
      ]
     },
     "execution_count": 6,
     "metadata": {},
     "output_type": "execute_result"
    }
   ],
   "source": [
    "filelist_train = glob.glob('../../juno_data/data/projections/reduced/train/*.npz')\n",
    "filelist_test = glob.glob('../../juno_data/data/projections/reduced/test/*/*.npz')\n",
    "\n",
    "len(filelist_test)"
   ]
  },
  {
   "cell_type": "code",
   "execution_count": 17,
   "metadata": {},
   "outputs": [
    {
     "name": "stderr",
     "output_type": "stream",
     "text": [
      "100%|██████████| 700/700 [00:37<00:00, 18.75it/s]\n"
     ]
    }
   ],
   "source": [
    "list = filelist_test\n",
    "for i in tqdm(range(len(list))):\n",
    "    data = np.load(list[i], allow_pickle=True)['arr_0']\n",
    "    np.save(list[i].split('.npz')[0] + '.npy', data)\n",
    "    del data"
   ]
  },
  {
   "cell_type": "code",
   "execution_count": 16,
   "metadata": {},
   "outputs": [
    {
     "data": {
      "text/plain": [
       "'../../juno_data/data/projections/reduced/test/e+_10/red_proj_raw_data_test_27.npz'"
      ]
     },
     "execution_count": 16,
     "metadata": {},
     "output_type": "execute_result"
    }
   ],
   "source": [
    "filelist_test[1]"
   ]
  },
  {
   "cell_type": "code",
   "execution_count": null,
   "metadata": {},
   "outputs": [],
   "source": []
  }
 ],
 "metadata": {
  "interpreter": {
   "hash": "cbb8330cf45eca9609fec477d654703161b361d2ebb3312bd35379d2bdf0a512"
  },
  "kernelspec": {
   "display_name": "Python 3.9.12 ('tfq')",
   "language": "python",
   "name": "python3"
  },
  "language_info": {
   "codemirror_mode": {
    "name": "ipython",
    "version": 3
   },
   "file_extension": ".py",
   "mimetype": "text/x-python",
   "name": "python",
   "nbconvert_exporter": "python",
   "pygments_lexer": "ipython3",
   "version": "3.9.12"
  },
  "orig_nbformat": 4
 },
 "nbformat": 4,
 "nbformat_minor": 2
}
