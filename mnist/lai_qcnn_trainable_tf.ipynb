{
 "cells": [
  {
   "cell_type": "markdown",
   "metadata": {},
   "source": [
    "# Trainable Quanvolutional NN in Tensorflow"
   ]
  },
  {
   "cell_type": "code",
   "execution_count": 35,
   "metadata": {},
   "outputs": [],
   "source": [
    "import tensorflow as tf\n",
    "from tensorflow.keras.datasets import mnist\n",
    "\n",
    "\n",
    "import pennylane as qml\n",
    "from pennylane import numpy as np\n",
    "from pennylane.templates import RandomLayers\n",
    "\n",
    "from sklearn.metrics import accuracy_score\n",
    "\n",
    "import datetime"
   ]
  },
  {
   "cell_type": "code",
   "execution_count": 47,
   "metadata": {},
   "outputs": [],
   "source": [
    "class QLayer(tf.keras.layers.Layer):\n",
    "    \n",
    "    def __init__(\n",
    "        self, \n",
    "        stride         = 2,\n",
    "        device         = \"default.qubit\", #qulacs.simulator\n",
    "        wires          = 4,\n",
    "        circuit_layers = 4,\n",
    "        n_rotations    = 8,\n",
    "        out_channels   = 4,\n",
    "        seed           = None\n",
    "    ):\n",
    "        \n",
    "        super().__init__()\n",
    "        \n",
    "        # init device\n",
    "        self.wires = wires\n",
    "        self.dev   = qml.device(device, wires=self.wires)\n",
    "                \n",
    "        self.stride       = stride\n",
    "        self.out_channels = min(out_channels, wires)\n",
    "                \n",
    "        if seed is None:\n",
    "            seed = np.random.randint(low=0, high=10e6)\n",
    "            \n",
    "        # random circuits\n",
    "        @qml.qnode(device=self.dev)\n",
    "        def circuit(inputs, weights):\n",
    "            n_inputs=4\n",
    "            # Encoding of 4 classical input values\n",
    "            for j in range(n_inputs):\n",
    "                qml.RY(inputs[j], wires=j)\n",
    "            # Random quantum circuit\n",
    "            RandomLayers(weights, wires=list(range(self.wires)), seed=seed)\n",
    "            \n",
    "            # Measurement producing 4 classical output values\n",
    "            return [qml.expval(qml.PauliZ(j)) for j in range(self.out_channels)]\n",
    "\n",
    "        weight_shapes = {\"weights\": [circuit_layers, n_rotations]}\n",
    "        self.circuit = qml.qnn.KerasLayer(circuit, weight_shapes=weight_shapes, output_dim=1)\n",
    "        \n",
    "    def draw(self):\n",
    "        # build circuit by sending dummy data through it\n",
    "        _ = self.circuit(inputs=tf.convert_to_tensor(np.zeros(4)))\n",
    "        print(self.circuit.qnode.draw())\n",
    "        self.circuit.zero_grad()\n",
    "        \n",
    "    def call(self, img):\n",
    "        bs, h, w, ch = img.size()\n",
    "        if ch > 1:\n",
    "            img = img.mean(axis=-1).reshape(bs, h, w, 1)\n",
    "                        \n",
    "        kernel_size = 2        \n",
    "        h_out = (h-kernel_size) // self.stride + 1\n",
    "        w_out = (w-kernel_size) // self.stride + 1\n",
    "        \n",
    "        \n",
    "        out = tf.zeros((bs, h_out, w_out, self.out_channels))\n",
    "        \n",
    "        # Loop over the coordinates of the top-left pixel of 2X2 squares\n",
    "        for b in range(bs):\n",
    "            for j in range(0, h_out, self.stride):\n",
    "                for k in range(0, w_out, self.stride):\n",
    "                    # Process a squared 2x2 region of the image with a quantum circuit\n",
    "                    q_results = self.circuit(\n",
    "                        inputs=tf.Tensor([\n",
    "                            img[b, j, k, 0],\n",
    "                            img[b, j, k + 1, 0],\n",
    "                            img[b, j + 1, k, 0],\n",
    "                            img[b, j + 1, k + 1, 0]\n",
    "                        ])\n",
    "                    )\n",
    "                    # Assign expectation values to different channels of the output pixel (j/2, k/2)\n",
    "                    for c in range(self.out_channels):\n",
    "                        out[b, j // kernel_size, k // kernel_size, c] = q_results[c]\n",
    "                        \n",
    "                \n",
    "        return out\n",
    "    "
   ]
  },
  {
   "cell_type": "code",
   "execution_count": 48,
   "metadata": {},
   "outputs": [],
   "source": [
    "qlayer = QLayer(\n",
    "        stride         = 2,\n",
    "        device         = \"default.qubit\", #qulacs.simulator\n",
    "        wires          = 4,\n",
    "        circuit_layers = 4,\n",
    "        n_rotations    = 8,\n",
    "        out_channels   = 4,\n",
    "        seed           = None\n",
    ")"
   ]
  },
  {
   "cell_type": "code",
   "execution_count": 49,
   "metadata": {},
   "outputs": [],
   "source": [
    "def transform(x):\n",
    "    x = np.array(x)\n",
    "    x = x/255.0\n",
    "    \n",
    "    return tf.convert_to_tensor(x).float()"
   ]
  },
  {
   "cell_type": "code",
   "execution_count": 50,
   "metadata": {},
   "outputs": [],
   "source": [
    "(trainX, trainY), (testX, testY) = mnist.load_data()\n",
    "\n",
    "# grey-scale ==> 1 channel\n",
    "trainX = trainX.reshape(trainX.shape[0], trainX.shape[1], trainX.shape[2], 1)\n",
    "testX  = testX.reshape(testX.shape[0], testX.shape[1], testX.shape[2], 1)\n",
    "\n",
    "# pixel normalization\n",
    "trainX = trainX.astype(\"float32\")\n",
    "testX  = testX.astype(\"float32\")\n",
    "trainX = tf.convert_to_tensor(trainX / 255)\n",
    "testX  = tf.convert_to_tensor(testX / 255)\n",
    "\n",
    "# label one-hot encoding\n",
    "trainY = tf.keras.utils.to_categorical(trainY)\n",
    "testY  = tf.keras.utils.to_categorical(testY)"
   ]
  },
  {
   "cell_type": "code",
   "execution_count": 51,
   "metadata": {},
   "outputs": [
    {
     "ename": "ValueError",
     "evalue": "The first argument to `Layer.call` must always be passed.",
     "output_type": "error",
     "traceback": [
      "\u001b[0;31m---------------------------------------------------------------------------\u001b[0m",
      "\u001b[0;31mValueError\u001b[0m                                Traceback (most recent call last)",
      "\u001b[0;32m/var/folders/q3/r96zncz17lq5z2jf1vj44c700000gn/T/ipykernel_74392/965198404.py\u001b[0m in \u001b[0;36m<module>\u001b[0;34m\u001b[0m\n\u001b[1;32m      1\u001b[0m model = tf.keras.Sequential(\n\u001b[0;32m----> 2\u001b[0;31m     \u001b[0mqlayer\u001b[0m\u001b[0;34m(\u001b[0m\u001b[0mstride\u001b[0m\u001b[0;34m=\u001b[0m\u001b[0;36m2\u001b[0m\u001b[0;34m,\u001b[0m \u001b[0mcircuit_layers\u001b[0m\u001b[0;34m=\u001b[0m\u001b[0;36m2\u001b[0m\u001b[0;34m,\u001b[0m \u001b[0mn_rotations\u001b[0m\u001b[0;34m=\u001b[0m\u001b[0;36m4\u001b[0m\u001b[0;34m,\u001b[0m \u001b[0mout_channels\u001b[0m\u001b[0;34m=\u001b[0m\u001b[0;36m4\u001b[0m\u001b[0;34m)\u001b[0m\u001b[0;34m,\u001b[0m\u001b[0;34m\u001b[0m\u001b[0;34m\u001b[0m\u001b[0m\n\u001b[0m\u001b[1;32m      3\u001b[0m     \u001b[0mtf\u001b[0m\u001b[0;34m.\u001b[0m\u001b[0mkeras\u001b[0m\u001b[0;34m.\u001b[0m\u001b[0mlayers\u001b[0m\u001b[0;34m.\u001b[0m\u001b[0mFlatten\u001b[0m\u001b[0;34m(\u001b[0m\u001b[0;34m)\u001b[0m\u001b[0;34m,\u001b[0m\u001b[0;34m\u001b[0m\u001b[0;34m\u001b[0m\u001b[0m\n\u001b[1;32m      4\u001b[0m     \u001b[0mtf\u001b[0m\u001b[0;34m.\u001b[0m\u001b[0mkeras\u001b[0m\u001b[0;34m.\u001b[0m\u001b[0mlayers\u001b[0m\u001b[0;34m.\u001b[0m\u001b[0mDense\u001b[0m\u001b[0;34m(\u001b[0m\u001b[0;36m14\u001b[0m\u001b[0;34m*\u001b[0m\u001b[0;36m14\u001b[0m\u001b[0;34m*\u001b[0m\u001b[0;36m4\u001b[0m\u001b[0;34m,\u001b[0m \u001b[0mactivation\u001b[0m\u001b[0;34m=\u001b[0m\u001b[0;34m\"relu\"\u001b[0m\u001b[0;34m)\u001b[0m\u001b[0;34m,\u001b[0m\u001b[0;34m\u001b[0m\u001b[0;34m\u001b[0m\u001b[0m\n\u001b[1;32m      5\u001b[0m     \u001b[0mtf\u001b[0m\u001b[0;34m.\u001b[0m\u001b[0mkeras\u001b[0m\u001b[0;34m.\u001b[0m\u001b[0mlayers\u001b[0m\u001b[0;34m.\u001b[0m\u001b[0mDense\u001b[0m\u001b[0;34m(\u001b[0m\u001b[0;36m10\u001b[0m\u001b[0;34m,\u001b[0m \u001b[0mactivation\u001b[0m\u001b[0;34m=\u001b[0m\u001b[0;34m\"softmax\"\u001b[0m\u001b[0;34m)\u001b[0m\u001b[0;34m\u001b[0m\u001b[0;34m\u001b[0m\u001b[0m\n",
      "\u001b[0;32m~/miniforge3/lib/python3.9/site-packages/keras/utils/traceback_utils.py\u001b[0m in \u001b[0;36merror_handler\u001b[0;34m(*args, **kwargs)\u001b[0m\n\u001b[1;32m     65\u001b[0m     \u001b[0;32mexcept\u001b[0m \u001b[0mException\u001b[0m \u001b[0;32mas\u001b[0m \u001b[0me\u001b[0m\u001b[0;34m:\u001b[0m  \u001b[0;31m# pylint: disable=broad-except\u001b[0m\u001b[0;34m\u001b[0m\u001b[0;34m\u001b[0m\u001b[0m\n\u001b[1;32m     66\u001b[0m       \u001b[0mfiltered_tb\u001b[0m \u001b[0;34m=\u001b[0m \u001b[0m_process_traceback_frames\u001b[0m\u001b[0;34m(\u001b[0m\u001b[0me\u001b[0m\u001b[0;34m.\u001b[0m\u001b[0m__traceback__\u001b[0m\u001b[0;34m)\u001b[0m\u001b[0;34m\u001b[0m\u001b[0;34m\u001b[0m\u001b[0m\n\u001b[0;32m---> 67\u001b[0;31m       \u001b[0;32mraise\u001b[0m \u001b[0me\u001b[0m\u001b[0;34m.\u001b[0m\u001b[0mwith_traceback\u001b[0m\u001b[0;34m(\u001b[0m\u001b[0mfiltered_tb\u001b[0m\u001b[0;34m)\u001b[0m \u001b[0;32mfrom\u001b[0m \u001b[0;32mNone\u001b[0m\u001b[0;34m\u001b[0m\u001b[0;34m\u001b[0m\u001b[0m\n\u001b[0m\u001b[1;32m     68\u001b[0m     \u001b[0;32mfinally\u001b[0m\u001b[0;34m:\u001b[0m\u001b[0;34m\u001b[0m\u001b[0;34m\u001b[0m\u001b[0m\n\u001b[1;32m     69\u001b[0m       \u001b[0;32mdel\u001b[0m \u001b[0mfiltered_tb\u001b[0m\u001b[0;34m\u001b[0m\u001b[0;34m\u001b[0m\u001b[0m\n",
      "\u001b[0;32m~/miniforge3/lib/python3.9/site-packages/keras/engine/base_layer.py\u001b[0m in \u001b[0;36m_split_out_first_arg\u001b[0;34m(self, args, kwargs)\u001b[0m\n\u001b[1;32m   3074\u001b[0m       \u001b[0minputs\u001b[0m \u001b[0;34m=\u001b[0m \u001b[0mkwargs\u001b[0m\u001b[0;34m.\u001b[0m\u001b[0mpop\u001b[0m\u001b[0;34m(\u001b[0m\u001b[0mself\u001b[0m\u001b[0;34m.\u001b[0m\u001b[0m_call_fn_args\u001b[0m\u001b[0;34m[\u001b[0m\u001b[0;36m0\u001b[0m\u001b[0;34m]\u001b[0m\u001b[0;34m)\u001b[0m\u001b[0;34m\u001b[0m\u001b[0;34m\u001b[0m\u001b[0m\n\u001b[1;32m   3075\u001b[0m     \u001b[0;32melse\u001b[0m\u001b[0;34m:\u001b[0m\u001b[0;34m\u001b[0m\u001b[0;34m\u001b[0m\u001b[0m\n\u001b[0;32m-> 3076\u001b[0;31m       raise ValueError(\n\u001b[0m\u001b[1;32m   3077\u001b[0m           'The first argument to `Layer.call` must always be passed.')\n\u001b[1;32m   3078\u001b[0m     \u001b[0;32mreturn\u001b[0m \u001b[0minputs\u001b[0m\u001b[0;34m,\u001b[0m \u001b[0margs\u001b[0m\u001b[0;34m,\u001b[0m \u001b[0mkwargs\u001b[0m\u001b[0;34m\u001b[0m\u001b[0;34m\u001b[0m\u001b[0m\n",
      "\u001b[0;31mValueError\u001b[0m: The first argument to `Layer.call` must always be passed."
     ]
    }
   ],
   "source": [
    "model = tf.keras.Sequential(\n",
    "    qlayer(stride=2, circuit_layers=2, n_rotations=4, out_channels=4),\n",
    "    tf.keras.layers.Flatten(),\n",
    "    tf.keras.layers.Dense(14*14*4, activation=\"relu\"),\n",
    "    tf.keras.layers.Dense(10, activation=\"softmax\")\n",
    ")\n",
    "opt     = tf.keras.optimizers.Adam(learning_rate=0.01)\n",
    "loss_fn = tf.keras.losses.CategoricalCrossentropy()\n",
    "\n",
    "model.compile(optimizer=opt, loss=loss_fn, metrics=[\"accuracy\"])\n",
    "\n",
    "log_dir = \"logs/\" + datetime.datetime.now().strftime(\"%Y%m%d-%H%M%S\")\n",
    "tensorboard_callback = tf.keras.callbacks.TensorBoard(log_dir=log_dir, histogram_freq=1)\n",
    "model.summary()"
   ]
  },
  {
   "cell_type": "code",
   "execution_count": null,
   "metadata": {},
   "outputs": [],
   "source": []
  }
 ],
 "metadata": {
  "interpreter": {
   "hash": "91e94dacc13bcc9ab92871d8572d4c8a018895bdfb2528d081f4892614b17d07"
  },
  "kernelspec": {
   "display_name": "Python 3.9.7 ('base')",
   "language": "python",
   "name": "python3"
  },
  "language_info": {
   "codemirror_mode": {
    "name": "ipython",
    "version": 3
   },
   "file_extension": ".py",
   "mimetype": "text/x-python",
   "name": "python",
   "nbconvert_exporter": "python",
   "pygments_lexer": "ipython3",
   "version": "3.9.7"
  },
  "orig_nbformat": 4
 },
 "nbformat": 4,
 "nbformat_minor": 2
}
