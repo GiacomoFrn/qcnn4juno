{
 "cells": [
  {
   "cell_type": "markdown",
   "metadata": {},
   "source": [
    "# Trainable Quanvolutional NN"
   ]
  },
  {
   "cell_type": "code",
   "execution_count": 1,
   "metadata": {},
   "outputs": [],
   "source": [
    "import torch\n",
    "from torch import nn\n",
    "\n",
    "import torchvision\n",
    "\n",
    "import pennylane as qml\n",
    "from pennylane import numpy as np\n",
    "from pennylane.templates import RandomLayers\n",
    "\n",
    "from sklearn.metrics import accuracy_score\n",
    "\n",
    "import numpy             as np\n",
    "import matplotlib.pyplot as plt\n",
    "from math import floor\n",
    "\n",
    "import keras\n",
    "import tensorflow as tf\n",
    "import datetime\n",
    "\n",
    "from keras.models   import Sequential\n",
    "from keras.layers   import Dense, Dropout, Flatten\n",
    "from keras.layers   import Conv1D, MaxPooling1D, AveragePooling1D, GlobalMaxPooling1D\n",
    "from keras          import regularizers, initializers\n",
    "from keras.datasets import mnist\n",
    "import pennylane as qml"
   ]
  },
  {
   "cell_type": "code",
   "execution_count": 2,
   "metadata": {},
   "outputs": [],
   "source": [
    "colors = [\n",
    "    \"#7eb0d5\",\n",
    "    \"#fd7f6f\",\n",
    "    \"#b2e061\",\n",
    "    \"#bd7ebe\",\n",
    "    \"#ffb55a\",\n",
    "    \"#8bd3c7\"\n",
    "]"
   ]
  },
  {
   "cell_type": "code",
   "execution_count": 6,
   "metadata": {},
   "outputs": [],
   "source": [
    "(trainX, trainY), (testX, testY) = mnist.load_data()\n",
    "\n",
    "# grey-scale ==> 1 channel\n",
    "trainX = trainX.reshape(trainX.shape[0], trainX.shape[1], trainX.shape[2], 1)\n",
    "testX  = testX.reshape(testX.shape[0], testX.shape[1], testX.shape[2], 1)\n",
    "\n",
    "# pixel normalization\n",
    "trainX = trainX.astype(\"float32\")\n",
    "testX  = testX.astype(\"float32\")\n",
    "trainX = tf.convert_to_tensor(trainX / 255)\n",
    "testX  = tf.convert_to_tensor(testX / 255)\n",
    "\n",
    "# label one-hot encoding\n",
    "trainY = tf.keras.utils.to_categorical(trainY)\n",
    "testY  = tf.keras.utils.to_categorical(testY)"
   ]
  },
  {
   "cell_type": "code",
   "execution_count": 3,
   "metadata": {},
   "outputs": [],
   "source": [
    "class QConv2D(tf.keras.layers.Layer):\n",
    "\tdef __init__(self, filters, kernel_size, strides=(1, 1), device=\"default.qubit\", out_channels=1):\n",
    "\t\tsuper(QConv2D, self).__init__()\n",
    "\n",
    "\t\t# init device\n",
    "\t\tself.kernel_size = kernel_size\n",
    "\t\tself.wires = kernel_size[0]*kernel_size[1]\n",
    "\t\tself.dev = qml.device(device, wires=self.wires)\n",
    "\t\t\n",
    "\t\tself.strides = strides\n",
    "\t\tself.out_channels = min(out_channels, self.wires)\n",
    "\t\t'''\n",
    "\t\tself.w = self.add_weight(\n",
    "\t\t\tname='w',\n",
    "\t\t\tshape=(self.wires, 3),\n",
    "\t\t\tinitializer='random_normal',\n",
    "\t\t\ttrainable=True\n",
    "\t\t)\n",
    "\n",
    "\t\tself.b = self.add_weight(\n",
    "\t\t\tname='b',\n",
    "\t\t\tshape=(self.wires,),\n",
    "\t\t\tinitializer='zeros',\n",
    "\t\t\ttrainable=True\n",
    "\t\t)\n",
    "\t\t'''\n",
    "\t\t# random circuit\n",
    "\t\t@qml.qnode(device=self.dev, interface='tf')\n",
    "\t\tdef circuit(inputs, weights):\n",
    "\n",
    "\t\t\t#print(qml.math.shape(inputs), '\\n', self.wires)\n",
    "\t\t\tfor j in range(self.wires):\n",
    "\t\t\t\tqml.RY(tf.math.atan(inputs[j]), wires=j)\n",
    "\t\t\t\n",
    "\t\t\tqml.BasicEntanglerLayers(weights=tf.math.atan(tf.reshape(inputs, (1, -1))), wires=range(self.wires), rotation=qml.RZ)\n",
    "\n",
    "\t\t\tfor j in range(self.wires):\n",
    "\t\t\t\tqml.Rot(weights[j, 0], weights[j, 1], weights[j, 2], wires=j)\n",
    "\t\t\t\n",
    "\t\t\t# Measurement producing 4 classical output values\n",
    "\t\t\treturn [qml.expval(qml.PauliZ(j)) for j in range(self.out_channels)]\n",
    "\t\t\n",
    "\t\tweight_shapes = {\"weights\": [self.wires, 3]}\n",
    "\t\tself.circuit = qml.qnn.KerasLayer(circuit, weight_shapes=weight_shapes, output_dim=self.out_channels)\n",
    "    \n",
    "    \n",
    "\tdef draw(self):\n",
    "\t\t# build circuit by sending dummy data through it\n",
    "\t\t#_ = self.circuit()\n",
    "\t\tprint(qml.draw(self.circuit.qnode)(inputs=np.zeros(self.wires), weights=np.zeros((self.wires,3))))\n",
    "\t\t#self.circuit.zero_grad()\n",
    "\t\n",
    "\t\n",
    "\tdef call(self, img):\n",
    "\t\tbs, h, w, ch = img.shape\n",
    "\t\tif ch > 1:\n",
    "\t\t\timg = img.mean(axis=-1).reshape(bs, h, w, 1)\n",
    "\t\t\t\t\t\t        \n",
    "\t\th_out = (h-self.kernel_size[0]) // self.strides[0] + 1\n",
    "\t\tw_out = (w-self.kernel_size[1]) // self.strides[1] + 1\n",
    "\t\t\n",
    "\t\t\n",
    "\t\tout = np.zeros((bs, h_out, w_out, self.out_channels))\n",
    "\t\t# Loop over the coordinates of the top-left pixel of 2X2 squares\n",
    "\t\tfor b in range(bs):\n",
    "\t\t\tfor j in range(0, h_out, self.strides[0]):\n",
    "\t\t\t\tfor k in range(0, w_out, self.strides[1]):\n",
    "\t\t\t\t\t# Process a squared 2x2 region of the image with a quantum circuit\n",
    "\t\t\t\t\tq_results = self.circuit(\n",
    "\t\t\t\t\t\tinputs=tf.convert_to_tensor([\n",
    "\t\t\t\t\t\t\timg[b, j, k, 0],\n",
    "\t\t\t\t\t\t\timg[b, j, k + 1, 0],\n",
    "\t\t\t\t\t\t\timg[b, j + 1, k, 0],\n",
    "\t\t\t\t\t\t\timg[b, j + 1, k + 1, 0]\n",
    "\t\t\t\t\t\t])\n",
    "\t\t\t\t\t)\n",
    "\t\t\t\t\t# Assign expectation values to different channels of the output pixel (j/2, k/2)\n",
    "\t\t\t\t\tfor c in range(self.out_channels):\n",
    "\t\t\t\t\t\tout[b, j // self.kernel_size[0], k // self.kernel_size[1], c] = q_results[c]\n",
    "\t\t\t\t\t\t\n",
    "\t\t\t\t\n",
    "\t\treturn tf.convert_to_tensor(out)\n",
    "\n",
    "\t#def build(self, input_shape):"
   ]
  },
  {
   "cell_type": "code",
   "execution_count": 5,
   "metadata": {},
   "outputs": [
    {
     "name": "stdout",
     "output_type": "stream",
     "text": [
      "0: ──RY(0.00)─╭BasicEntanglerLayers(M0)──Rot(0.00,0.00,0.00)─┤  <Z>\n",
      "1: ──RY(0.00)─├BasicEntanglerLayers(M0)──Rot(0.00,0.00,0.00)─┤     \n",
      "2: ──RY(0.00)─├BasicEntanglerLayers(M0)──Rot(0.00,0.00,0.00)─┤     \n",
      "3: ──RY(0.00)─╰BasicEntanglerLayers(M0)──Rot(0.00,0.00,0.00)─┤     \n"
     ]
    }
   ],
   "source": [
    "qlayer = QConv2D(filters=2, kernel_size=(2,2), out_channels=1)\n",
    "qlayer.draw()"
   ]
  },
  {
   "cell_type": "code",
   "execution_count": 15,
   "metadata": {},
   "outputs": [],
   "source": [
    "# constants\n",
    "EPOCHS     = 10\n",
    "FONTSIZE   = 18\n",
    "\n",
    "\n",
    "model = tf.keras.Sequential([\n",
    "    QConv2D(filters=2, kernel_size=(2,2), out_channels=1),\n",
    "    # tf.keras.layers.Conv2D(32, (3, 3), activation=\"relu\"),\n",
    "    tf.keras.layers.Flatten(),\n",
    "    # tf.keras.layers.Dense(, activation=\"relu\"),\n",
    "    tf.keras.layers.Dense(10, activation=\"softmax\")\n",
    "])\n",
    "opt     = tf.keras.optimizers.Adam(learning_rate=0.01)\n",
    "loss_fn = tf.keras.losses.CategoricalCrossentropy()\n",
    "\n",
    "model.compile(optimizer=opt, loss=loss_fn, metrics=[\"accuracy\"])\n",
    "\n",
    "# tensorboard callback\n",
    "log_dir = \"qcnn_logs/\" + datetime.datetime.now().strftime(\"%Y%m%d-%H%M%S\")\n",
    "tensorboard_callback = tf.keras.callbacks.TensorBoard(log_dir=log_dir, histogram_freq=1)"
   ]
  },
  {
   "cell_type": "code",
   "execution_count": 16,
   "metadata": {},
   "outputs": [
    {
     "name": "stdout",
     "output_type": "stream",
     "text": [
      "Epoch 1/10\n"
     ]
    }
   ],
   "source": [
    "NDATA = 10\n",
    "\n",
    "history   = model.fit(trainX[:NDATA], trainY[:NDATA], epochs=EPOCHS, batch_size=32, verbose=2)\n",
    "loss, acc = model.evaluate(testX[:NDATA], testY[:NDATA], verbose=0)\n",
    "\n",
    "\n",
    "train_loss_history = np.array(history.history[\"loss\"])\n",
    "train_acc_history  = np.array(history.history[\"accuracy\"])\n",
    "\n",
    "valid_loss_history = np.array(history.history[\"val_loss\"])\n",
    "valid_acc_history  = np.array(history.history[\"val_accuracy\"])"
   ]
  },
  {
   "cell_type": "code",
   "execution_count": null,
   "metadata": {},
   "outputs": [],
   "source": [
    "epochs_grid = np.arange(0, EPOCHS, 1)\n",
    "\n",
    "fig, (ax1, ax2) = plt.subplots(figsize=(14, 8), ncols=2, sharex=True, constrained_layout=True)\n",
    "\n",
    "ax1.set_axisbelow(True)\n",
    "ax1.grid(axis=\"y\", color=\"black\", alpha=0.2)\n",
    "ax2.set_axisbelow(True)\n",
    "ax2.grid(axis=\"y\", color=\"black\", alpha=0.2)\n",
    "\n",
    "ax1.set_title(\"Loss history\",     fontsize=FONTSIZE+4)\n",
    "ax1.set_xlabel(\"epochs\",          fontsize=FONTSIZE)\n",
    "ax1.set_ylabel(\"loss\",            fontsize=FONTSIZE)\n",
    "ax1.tick_params(axis=\"both\", which=\"major\", labelsize=FONTSIZE, length=5)\n",
    "ax2.set_title(\"Accuracy history\", fontsize=FONTSIZE+4)\n",
    "ax2.set_xlabel(\"epochs\",          fontsize=FONTSIZE)\n",
    "ax2.set_ylabel(\"1-accuracy\",      fontsize=FONTSIZE)\n",
    "ax2.tick_params(axis=\"both\", which=\"major\", labelsize=FONTSIZE, length=5)\n",
    "\n",
    "ax1.plot(epochs_grid, train_loss_history,  linewidth=3, color=colors[0], label=\"train\")\n",
    "ax1.plot(epochs_grid, valid_loss_history,  linewidth=3, color=colors[1], label=\"validation\")\n",
    "ax2.plot(epochs_grid, 1-train_acc_history, linewidth=3, color=colors[0], label=\"train\")\n",
    "ax2.plot(epochs_grid, 1-valid_acc_history, linewidth=3, color=colors[1], label=\"validation\")\n",
    "\n",
    "ax1.text(0.4, 0.7, f\"Test loss = {loss:.4f}\",    fontsize=FONTSIZE, transform=ax1.transAxes)\n",
    "ax2.text(0.4, 0.7, f\"Test accuracy = {acc:.4f}\", fontsize=FONTSIZE, transform=ax2.transAxes)\n",
    "\n",
    "ax1.set_yscale(\"linear\")\n",
    "ax2.set_yscale(\"linear\")\n",
    "\n",
    "ax1.legend(fontsize=FONTSIZE)\n",
    "ax2.legend(fontsize=FONTSIZE)\n",
    "\n",
    "plt.show()"
   ]
  }
 ],
 "metadata": {
  "interpreter": {
   "hash": "91e94dacc13bcc9ab92871d8572d4c8a018895bdfb2528d081f4892614b17d07"
  },
  "kernelspec": {
   "display_name": "Python 3.9.7 ('base')",
   "language": "python",
   "name": "python3"
  },
  "language_info": {
   "codemirror_mode": {
    "name": "ipython",
    "version": 3
   },
   "file_extension": ".py",
   "mimetype": "text/x-python",
   "name": "python",
   "nbconvert_exporter": "python",
   "pygments_lexer": "ipython3",
   "version": "3.9.7"
  },
  "orig_nbformat": 4
 },
 "nbformat": 4,
 "nbformat_minor": 2
}
