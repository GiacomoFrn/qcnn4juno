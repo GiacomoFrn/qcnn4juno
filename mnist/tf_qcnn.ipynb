{
 "cells": [
  {
   "cell_type": "code",
   "execution_count": 176,
   "metadata": {},
   "outputs": [],
   "source": [
    "import tensorflow as tf\n",
    "import tensorflow_quantum as tfq\n",
    "\n",
    "from tensorflow.keras import datasets, layers, models\n",
    "from tensorflow import keras\n",
    "\n",
    "import cirq\n",
    "import sympy\n",
    "import numpy as np\n",
    "import collections\n",
    "\n",
    "# visualization tools\n",
    "%matplotlib inline\n",
    "import matplotlib as mpl\n",
    "import matplotlib.pyplot as plt\n",
    "from cirq.contrib.svg import SVGCircuit"
   ]
  },
  {
   "cell_type": "markdown",
   "metadata": {},
   "source": [
    "# Trainable Quanvolutional Neural Network"
   ]
  },
  {
   "cell_type": "markdown",
   "metadata": {},
   "source": [
    "## Load dataset"
   ]
  },
  {
   "cell_type": "code",
   "execution_count": 124,
   "metadata": {},
   "outputs": [],
   "source": [
    "n_train = 5000    # Size of the train dataset\n",
    "n_test  = 2000    # Size of the test dataset\n",
    "\n",
    "\n",
    "mnist_dataset = keras.datasets.mnist\n",
    "(train_images, train_labels), (test_images, test_labels) = mnist_dataset.load_data()\n",
    "\n",
    "# Reduce dataset size\n",
    "train_images = train_images[:n_train]\n",
    "train_labels = train_labels[:n_train]\n",
    "test_images = test_images[:n_test]\n",
    "test_labels = test_labels[:n_test]\n",
    "\n",
    "# Normalize pixel values within 0 and 1\n",
    "train_images = train_images / 255\n",
    "test_images = test_images / 255\n",
    "\n",
    "# Add extra dimension for convolution channels\n",
    "train_images = np.array(train_images[..., tf.newaxis])\n",
    "test_images = np.array(test_images[..., tf.newaxis])\n",
    "\n",
    "# reduce image resolution\n",
    "train_images = tf.image.resize(train_images[:], (10,10)).numpy()\n",
    "test_images = tf.image.resize(test_images[:], (10,10)).numpy()"
   ]
  },
  {
   "cell_type": "markdown",
   "metadata": {},
   "source": [
    "## Define QConv layer"
   ]
  },
  {
   "cell_type": "code",
   "execution_count": 125,
   "metadata": {},
   "outputs": [],
   "source": [
    "class QConv(tf.keras.layers.Layer):\n",
    "    def __init__(self, filter_size, depth, activation=None, name=None, kernel_regularizer=None, **kwangs):\n",
    "        super(QConv, self).__init__(name=name, **kwangs)\n",
    "        self.filter_size = filter_size\n",
    "        self.depth = depth\n",
    "        self.learning_params = []\n",
    "        self.QCNN_layer_gen()\n",
    "        # self.circuit_tensor = tfq.convert_to_tensor([self.circuit])\n",
    "        self.activation = tf.keras.layers.Activation(activation)\n",
    "        self.kernel_regularizer = kernel_regularizer\n",
    "\n",
    "    def _next_qubit_set(self, original_size, next_size, qubits):\n",
    "        step = original_size // next_size\n",
    "        qubit_list = []\n",
    "        for i in range(0, original_size, step):\n",
    "            for j in range(0, original_size, step):\n",
    "                qubit_list.append(qubits[original_size*i + j])\n",
    "        return qubit_list\n",
    "\n",
    "    def _get_new_param(self):\n",
    "        \"\"\"\n",
    "        return new learnable parameter\n",
    "        all returned parameter saved in self.learning_params\n",
    "        \"\"\"\n",
    "        new_param = sympy.symbols(\"p\"+str(len(self.learning_params)))\n",
    "        self.learning_params.append(new_param)\n",
    "        return new_param\n",
    "    \n",
    "    def _QConv(self, step, target, qubits):\n",
    "        \"\"\"\n",
    "        apply learnable gates each quantum convolutional layer level\n",
    "        \"\"\"\n",
    "        yield cirq.CZPowGate(exponent=self._get_new_param())(qubits[target], qubits[target+step])\n",
    "        yield cirq.CXPowGate(exponent=self._get_new_param())(qubits[target], qubits[target+step])\n",
    "    \n",
    "    def QCNN_layer_gen(self):\n",
    "        \"\"\"\n",
    "        make quantum convolutional layer in QConv layer\n",
    "        \"\"\"\n",
    "        pixels = self.filter_size**2\n",
    "        # filter size: 2^n only for this version!\n",
    "        if np.log2(pixels) % 1 != 0:\n",
    "            raise NotImplementedError(\"filter size: 2^n only available\")\n",
    "        cirq_qubits = cirq.GridQubit.rect(self.filter_size, self.filter_size)\n",
    "        # mapping input data to circuit\n",
    "        input_circuit = cirq.Circuit()\n",
    "        input_params = [sympy.symbols('a%d' %i) for i in range(pixels)]\n",
    "        for i, qubit in enumerate(cirq_qubits):\n",
    "            input_circuit.append(cirq.rx(np.pi*input_params[i])(qubit))\n",
    "        # apply learnable gate set to QCNN circuit\n",
    "        QCNN_circuit = cirq.Circuit()\n",
    "        step_size = [2**i for i in range(np.log2(pixels).astype(np.int32))]\n",
    "        for step in step_size:\n",
    "            for target in range(0, pixels, 2*step):\n",
    "                QCNN_circuit.append(self._QConv(step, target, cirq_qubits))\n",
    "        # merge the circuits\n",
    "        full_circuit = cirq.Circuit()\n",
    "        full_circuit.append(input_circuit)\n",
    "        full_circuit.append(QCNN_circuit)\n",
    "        self.circuit = full_circuit # save circuit to the QCNN layer obj.\n",
    "        self.params = input_params + self.learning_params\n",
    "        self.op = cirq.Z(cirq_qubits[0])\n",
    "        \n",
    "    def build(self, input_shape):\n",
    "        self.width = input_shape[1]\n",
    "        self.height = input_shape[2]\n",
    "        self.channel = input_shape[3]\n",
    "        self.num_x = self.width - self.filter_size + 1\n",
    "        self.num_y = self.height - self.filter_size + 1\n",
    "        \n",
    "        self.kernel = self.add_weight(name=\"kenel\", \n",
    "                                      shape=[self.depth, \n",
    "                                             self.channel, \n",
    "                                             len(self.learning_params)],\n",
    "                                     initializer=tf.keras.initializers.glorot_normal(),\n",
    "                                     regularizer=self.kernel_regularizer)\n",
    "        self.circuit_tensor = tfq.convert_to_tensor([self.circuit] * self.num_x * self.num_y * self.channel)\n",
    "\n",
    "    def call(self, inputs):\n",
    "        # input shape: [N, width, height, channel]\n",
    "        # slide and collect data\n",
    "        stack_set = None\n",
    "        for i in range(self.num_x):\n",
    "            for j in range(self.num_y):\n",
    "                slice_part = tf.slice(inputs, [0, i, j, 0], [-1, self.filter_size, self.filter_size, -1])\n",
    "                slice_part = tf.reshape(slice_part, shape=[-1, 1, self.filter_size, self.filter_size, self.channel])\n",
    "                if stack_set == None:\n",
    "                    stack_set = slice_part\n",
    "                else:\n",
    "                    stack_set = tf.concat([stack_set, slice_part], 1)  \n",
    "        # -> shape: [N, num_x*num_y, filter_size, filter_size, channel]\n",
    "        stack_set = tf.transpose(stack_set, perm=[0, 1, 4, 2, 3])\n",
    "        # -> shape: [N, num_x*num_y, channel, filter_size, fiter_size]\n",
    "        stack_set = tf.reshape(stack_set, shape=[-1, self.filter_size**2])\n",
    "        # -> shape: [N*num_x*num_y*channel, filter_size^2]\n",
    "        \n",
    "        # total input circuits: N * num_x * num_y * channel\n",
    "        circuit_inputs = tf.tile([self.circuit_tensor], [tf.shape(inputs)[0], 1])\n",
    "        circuit_inputs = tf.reshape(circuit_inputs, shape=[-1])\n",
    "        tf.fill([tf.shape(inputs)[0]*self.num_x*self.num_y, 1], 1)\n",
    "        outputs = []\n",
    "        for i in range(self.depth):\n",
    "            controller = tf.tile(self.kernel[i], [tf.shape(inputs)[0]*self.num_x*self.num_y, 1])\n",
    "            outputs.append(self.single_depth_QCNN(stack_set, controller, circuit_inputs))\n",
    "            # shape: [N, num_x, num_y] \n",
    "            \n",
    "        output_tensor = tf.stack(outputs, axis=3)\n",
    "        output_tensor = tf.math.acos(tf.clip_by_value(output_tensor, -1+1e-5, 1-1e-5)) / np.pi\n",
    "        # output_tensor = tf.clip_by_value(tf.math.acos(output_tensor)/np.pi, -1, 1)\n",
    "        return self.activation(output_tensor)\n",
    "    \n",
    "    def single_depth_QCNN(self, input_data, controller, circuit_inputs):\n",
    "        \"\"\"\n",
    "        make QCNN for 1 channel only\n",
    "        \"\"\"\n",
    "        # input shape: [N*num_x*num_y*channel, filter_size^2]\n",
    "        # controller shape: [N*num_x*num_y*channel, len(learning_params)]\n",
    "        input_data = tf.concat([input_data, controller], 1)\n",
    "        # input_data shape: [N*num_x*num_y*channel, len(learning_params)]\n",
    "        QCNN_output = tfq.layers.Expectation()(circuit_inputs, \n",
    "                                               symbol_names=self.params,\n",
    "                                               symbol_values=input_data,\n",
    "                                               operators=self.op)\n",
    "        # QCNN_output shape: [N*num_x*num_y*channel]\n",
    "        QCNN_output = tf.reshape(QCNN_output, shape=[-1, self.num_x, self.num_y, self.channel])\n",
    "        return tf.math.reduce_sum(QCNN_output, 3)"
   ]
  },
  {
   "cell_type": "markdown",
   "metadata": {},
   "source": [
    "## Build and train a simple model"
   ]
  },
  {
   "cell_type": "code",
   "execution_count": 183,
   "metadata": {},
   "outputs": [],
   "source": [
    "width = np.shape(train_images)[1]\n",
    "height = np.shape(train_images)[2]\n",
    "\n",
    "qcnn_model = models.Sequential()\n",
    "\n",
    "\n",
    "qcnn_model.add(QConv(filter_size=2, depth=1, activation='relu', \n",
    "                     name='qconv1', input_shape=(width, height, 1)))\n",
    "qcnn_model.add(layers.Flatten())\n",
    "qcnn_model.add(layers.Dense(32, activation='relu'))\n",
    "qcnn_model.add(layers.Dense(10, activation='softmax'))"
   ]
  },
  {
   "cell_type": "code",
   "execution_count": 127,
   "metadata": {},
   "outputs": [
    {
     "name": "stdout",
     "output_type": "stream",
     "text": [
      "Epoch 1/15\n",
      "700/700 [==============================] - 35s 48ms/step - loss: 1.3747 - accuracy: 0.6229 - val_loss: 0.8115 - val_accuracy: 0.7920\n",
      "Epoch 2/15\n",
      "700/700 [==============================] - 35s 51ms/step - loss: 0.6498 - accuracy: 0.8306 - val_loss: 0.5620 - val_accuracy: 0.8393\n",
      "Epoch 3/15\n",
      "700/700 [==============================] - 41s 58ms/step - loss: 0.4970 - accuracy: 0.8646 - val_loss: 0.4721 - val_accuracy: 0.8740\n",
      "Epoch 4/15\n",
      "700/700 [==============================] - 36s 51ms/step - loss: 0.4318 - accuracy: 0.8743 - val_loss: 0.4407 - val_accuracy: 0.8727\n",
      "Epoch 5/15\n",
      "700/700 [==============================] - 38s 54ms/step - loss: 0.3921 - accuracy: 0.8883 - val_loss: 0.4322 - val_accuracy: 0.8720\n",
      "Epoch 6/15\n",
      "700/700 [==============================] - 42s 60ms/step - loss: 0.3643 - accuracy: 0.8954 - val_loss: 0.4197 - val_accuracy: 0.8747\n",
      "Epoch 7/15\n",
      "700/700 [==============================] - 40s 58ms/step - loss: 0.3458 - accuracy: 0.8983 - val_loss: 0.3879 - val_accuracy: 0.8893\n",
      "Epoch 8/15\n",
      "700/700 [==============================] - 39s 56ms/step - loss: 0.3242 - accuracy: 0.9074 - val_loss: 0.3827 - val_accuracy: 0.8920\n",
      "Epoch 9/15\n",
      "700/700 [==============================] - 41s 58ms/step - loss: 0.3087 - accuracy: 0.9111 - val_loss: 0.3709 - val_accuracy: 0.8967\n",
      "Epoch 10/15\n",
      "700/700 [==============================] - 43s 62ms/step - loss: 0.2978 - accuracy: 0.9120 - val_loss: 0.3685 - val_accuracy: 0.8967\n",
      "Epoch 11/15\n",
      "700/700 [==============================] - 41s 59ms/step - loss: 0.2859 - accuracy: 0.9209 - val_loss: 0.3564 - val_accuracy: 0.9040\n",
      "Epoch 12/15\n",
      "700/700 [==============================] - 42s 61ms/step - loss: 0.2746 - accuracy: 0.9203 - val_loss: 0.3574 - val_accuracy: 0.8960\n",
      "Epoch 13/15\n",
      "700/700 [==============================] - 44s 63ms/step - loss: 0.2628 - accuracy: 0.9223 - val_loss: 0.3660 - val_accuracy: 0.8913\n",
      "Epoch 14/15\n",
      "700/700 [==============================] - 41s 59ms/step - loss: 0.2532 - accuracy: 0.9291 - val_loss: 0.3505 - val_accuracy: 0.9020\n",
      "Epoch 15/15\n",
      "700/700 [==============================] - 42s 60ms/step - loss: 0.2477 - accuracy: 0.9323 - val_loss: 0.3496 - val_accuracy: 0.9047\n"
     ]
    }
   ],
   "source": [
    "qcnn_model.compile(optimizer=tf.keras.optimizers.Adam(),\n",
    "              loss='sparse_categorical_crossentropy',\n",
    "              metrics=['accuracy'])\n",
    "\n",
    "qcnn_history = qcnn_model.fit(train_images, train_labels,\n",
    "                        validation_split = 0.3, \n",
    "                        epochs=40, batch_size=5)"
   ]
  },
  {
   "cell_type": "markdown",
   "metadata": {},
   "source": [
    "## Produce output of trained circuit"
   ]
  },
  {
   "cell_type": "code",
   "execution_count": 128,
   "metadata": {},
   "outputs": [],
   "source": [
    "n_filters = 1\n",
    "\n",
    "# save model weights\n",
    "qcnn_model.save_weights('qcnn_weights_1.h5')"
   ]
  },
  {
   "cell_type": "code",
   "execution_count": null,
   "metadata": {},
   "outputs": [],
   "source": [
    "import h5py\n",
    "qcnn_weights = h5py.File('qcnn_weights_1.h5','r')\n",
    "filters_param = [qcnn_weights[\"qconv1\"][\"qconv1\"][\"kenel:0\"][i] for i in range(n_filters) ]"
   ]
  },
  {
   "cell_type": "code",
   "execution_count": 129,
   "metadata": {},
   "outputs": [
    {
     "name": "stdout",
     "output_type": "stream",
     "text": [
      "0: ──RX(0.00)─╭C─────────╭C─────────╭C─────────╭C────────┤  <Z>\n",
      "1: ──RX(0.00)─╰RZ(0.22)──╰RX(-0.98)─│──────────│─────────┤  <Z>\n",
      "2: ──RX(0.00)─╭C─────────╭C─────────╰RZ(-0.41)─╰RX(0.37)─┤  <Z>\n",
      "3: ──RX(0.00)─╰RZ(-0.62)─╰RX(1.10)───────────────────────┤  <Z>\n"
     ]
    }
   ],
   "source": [
    "# build the parametrized circuit\n",
    "import pennylane as qml\n",
    "from pennylane import numpy as np\n",
    "\n",
    "dev = qml.device(\"default.qubit\", wires=4)\n",
    "\n",
    "# Random circuit parameters\n",
    "n_layers = 4\n",
    "n_qubits = 4  \n",
    "rand_params = np.random.uniform(high=2*np.pi, size=(n_layers, n_qubits))\n",
    "\n",
    "@qml.qnode(dev)\n",
    "def circuit(phi_in, phi_var):\n",
    "    # Encoding of classical input values\n",
    "    for j in range(n_qubits):\n",
    "        qml.RX(np.pi*phi_in[j], wires=j)\n",
    " \n",
    "    qml.CRZ(phi_var[0], [0,1])\n",
    "    qml.CRX(phi_var[1], [0,1])\n",
    "\n",
    "    qml.CRZ(phi_var[2], [2,3])\n",
    "    qml.CRX(phi_var[3], [2,3])\n",
    "\n",
    "    qml.CRZ(phi_var[4], [0,2])\n",
    "    qml.CRX(phi_var[5], [0,2])\n",
    "\n",
    "\n",
    "    # Measurement producing 4 classical output values\n",
    "    return [qml.expval(qml.PauliZ(j)) for j in range(n_qubits)]\n",
    "\n",
    "print(qml.draw(circuit)(phi_in=[0,0,0,0], phi_var=filters_param[0][0]))"
   ]
  },
  {
   "cell_type": "code",
   "execution_count": 147,
   "metadata": {},
   "outputs": [],
   "source": [
    "# quanvolution\n",
    "def quanv(image, image_size, stride, kernel_size, phi_var):\n",
    "    \"\"\"Convolves the input image with many applications of the same quantum circuit.\"\"\"\n",
    "    conv_size = int((image_size-kernel_size)/stride + 1)\n",
    "    out = np.zeros((conv_size, conv_size, kernel_size**2))\n",
    "\n",
    "    # Loop over the coordinates of the top-left pixel of 2X2 squares\n",
    "    for j in range(0, image_size-kernel_size+1, stride):\n",
    "        for k in range(0, image_size-kernel_size+1, stride):\n",
    "            # Process a squared 2x2 region of the image with a quantum circuit\n",
    "            q_results = circuit(\n",
    "                [\n",
    "                    image[j, k, 0],\n",
    "                    image[j, k + 1, 0],\n",
    "                    image[j + 1, k, 0],\n",
    "                    image[j + 1, k + 1, 0]\n",
    "                ],\n",
    "                phi_var\n",
    "            )\n",
    "            # Assign expectation values to different channels of the output pixel (j/2, k/2)\n",
    "            for c in range(kernel_size**2):\n",
    "                out[j // stride, k // stride, c] = q_results[c]\n",
    "    return out"
   ]
  },
  {
   "cell_type": "code",
   "execution_count": 184,
   "metadata": {},
   "outputs": [],
   "source": [
    "# produce n_samples output for each filter\n",
    "n_samples   = 4\n",
    "img_size    = 10\n",
    "stride      = 1\n",
    "filter_size = 2\n",
    "\n",
    "t_circ_out = []\n",
    "for i in range(n_filters):\n",
    "    # process input images\n",
    "    q_trained_images = []\n",
    "    for img in train_images[:n_samples]:\n",
    "        q_trained_images.append(quanv(img, img_size, stride, filter_size, filters_param[i][0]))\n",
    "    t_circ_out.append(np.array(q_trained_images))"
   ]
  },
  {
   "cell_type": "code",
   "execution_count": 152,
   "metadata": {},
   "outputs": [
    {
     "data": {
      "image/png": "[encoded data removed]",
      "text/plain": [
       "<Figure size 720x144 with 4 Axes>"
      ]
     },
     "metadata": {
      "needs_background": "light"
     },
     "output_type": "display_data"
    }
   ],
   "source": [
    "# print inputs\n",
    "fig, axes = plt.subplots(1, n_samples, figsize=(10, 2))\n",
    "for k in range(n_samples):\n",
    "    axes[0].set_ylabel(\"Input\")\n",
    "    if k != 0:\n",
    "        axes[k].yaxis.set_visible(False)\n",
    "    axes[k].imshow(train_images[k, :, :, 0], cmap=\"gray\")"
   ]
  },
  {
   "cell_type": "code",
   "execution_count": 185,
   "metadata": {},
   "outputs": [
    {
     "data": {
      "image/png": "[encoded data removed]",
      "text/plain": [
       "<Figure size 720x576 with 16 Axes>"
      ]
     },
     "metadata": {
      "needs_background": "light"
     },
     "output_type": "display_data"
    }
   ],
   "source": [
    "# print outputs\n",
    "n_channels = 4\n",
    "for i in range(n_filters):\n",
    "    fig, axes = plt.subplots(n_channels, n_samples, figsize=(10, 8))\n",
    "    for k in range(n_samples):\n",
    "        for c in range(n_channels):\n",
    "            axes[c, 0].set_ylabel(\"Output [ch. {}]\".format(c))\n",
    "            if k != 0:\n",
    "                axes[c, k].yaxis.set_visible(False)\n",
    "            axes[c, k].imshow(t_circ_out[i][k, :, :, c], cmap=\"gray\")\n",
    "    plt.suptitle(f'Filter: {i}')\n",
    "    plt.tight_layout()\n",
    "    plt.savefig(f'./images/t_quanv_1_out_{i}.png')"
   ]
  },
  {
   "cell_type": "markdown",
   "metadata": {},
   "source": [
    "## Classical model comparison"
   ]
  },
  {
   "cell_type": "code",
   "execution_count": 177,
   "metadata": {},
   "outputs": [],
   "source": [
    "def cnn_model(img_size = 28,\n",
    "              channels = 1):\n",
    "    cnn_model = models.Sequential([\n",
    "        layers.Conv2D(filters=1, kernel_size=2, activation='relu', strides = (1,1), input_shape=(img_size, img_size, channels), data_format='channels_last'),\n",
    "        layers.Flatten(),\n",
    "        layers.Dense(32, activation='relu'),\n",
    "        layers.Dense(10, activation='softmax')]\n",
    "    )\n",
    "\n",
    "    cnn_model.compile(\n",
    "        optimizer='adam',\n",
    "        loss=\"sparse_categorical_crossentropy\",\n",
    "        metrics=[\"accuracy\"],\n",
    "    )\n",
    "\n",
    "    return cnn_model"
   ]
  },
  {
   "cell_type": "code",
   "execution_count": 178,
   "metadata": {},
   "outputs": [],
   "source": [
    "cnn = cnn_model(\n",
    "    img_size = 10\n",
    ")\n",
    "n_epochs = 15\n",
    "#steps_per_epoch = 40\n",
    "batch_size = 5"
   ]
  },
  {
   "cell_type": "code",
   "execution_count": 179,
   "metadata": {},
   "outputs": [
    {
     "name": "stdout",
     "output_type": "stream",
     "text": [
      "Epoch 1/15\n",
      "700/700 - 2s - loss: 1.4882 - accuracy: 0.5466 - val_loss: 0.8794 - val_accuracy: 0.7480 - 2s/epoch - 3ms/step\n",
      "Epoch 2/15\n",
      "700/700 - 2s - loss: 0.6737 - accuracy: 0.7954 - val_loss: 0.6243 - val_accuracy: 0.8140 - 2s/epoch - 3ms/step\n",
      "Epoch 3/15\n",
      "700/700 - 2s - loss: 0.5342 - accuracy: 0.8360 - val_loss: 0.5241 - val_accuracy: 0.8360 - 2s/epoch - 3ms/step\n",
      "Epoch 4/15\n",
      "700/700 - 2s - loss: 0.4740 - accuracy: 0.8594 - val_loss: 0.5023 - val_accuracy: 0.8447 - 2s/epoch - 2ms/step\n",
      "Epoch 5/15\n",
      "700/700 - 2s - loss: 0.4406 - accuracy: 0.8666 - val_loss: 0.4771 - val_accuracy: 0.8547 - 2s/epoch - 2ms/step\n",
      "Epoch 6/15\n",
      "700/700 - 2s - loss: 0.4184 - accuracy: 0.8774 - val_loss: 0.4710 - val_accuracy: 0.8527 - 2s/epoch - 2ms/step\n",
      "Epoch 7/15\n",
      "700/700 - 2s - loss: 0.4020 - accuracy: 0.8829 - val_loss: 0.4940 - val_accuracy: 0.8447 - 2s/epoch - 2ms/step\n",
      "Epoch 8/15\n",
      "700/700 - 2s - loss: 0.3870 - accuracy: 0.8877 - val_loss: 0.4617 - val_accuracy: 0.8600 - 2s/epoch - 2ms/step\n",
      "Epoch 9/15\n",
      "700/700 - 2s - loss: 0.3769 - accuracy: 0.8857 - val_loss: 0.4636 - val_accuracy: 0.8580 - 2s/epoch - 2ms/step\n",
      "Epoch 10/15\n",
      "700/700 - 2s - loss: 0.3667 - accuracy: 0.8866 - val_loss: 0.4637 - val_accuracy: 0.8533 - 2s/epoch - 2ms/step\n",
      "Epoch 11/15\n",
      "700/700 - 1s - loss: 0.3550 - accuracy: 0.8966 - val_loss: 0.4636 - val_accuracy: 0.8480 - 1s/epoch - 2ms/step\n",
      "Epoch 12/15\n",
      "700/700 - 1s - loss: 0.3472 - accuracy: 0.8974 - val_loss: 0.4070 - val_accuracy: 0.8807 - 1s/epoch - 2ms/step\n",
      "Epoch 13/15\n",
      "700/700 - 1s - loss: 0.3374 - accuracy: 0.8943 - val_loss: 0.4211 - val_accuracy: 0.8667 - 1s/epoch - 2ms/step\n",
      "Epoch 14/15\n",
      "700/700 - 2s - loss: 0.3278 - accuracy: 0.9026 - val_loss: 0.4411 - val_accuracy: 0.8667 - 2s/epoch - 2ms/step\n",
      "Epoch 15/15\n",
      "700/700 - 2s - loss: 0.3203 - accuracy: 0.9049 - val_loss: 0.4349 - val_accuracy: 0.8713 - 2s/epoch - 3ms/step\n"
     ]
    }
   ],
   "source": [
    "cnn_history = cnn.fit(train_images, train_labels,\n",
    "                            #steps_per_epoch = steps_per_epoch,\n",
    "                            #validation_data=(valid_images, valid_labels),\n",
    "                            validation_split = 0.3,\n",
    "                            batch_size=batch_size,\n",
    "                            epochs=n_epochs, \n",
    "                            verbose=2)"
   ]
  },
  {
   "cell_type": "code",
   "execution_count": 182,
   "metadata": {},
   "outputs": [
    {
     "data": {
      "text/plain": [
       "<matplotlib.legend.Legend at 0x7f84645b9bb0>"
      ]
     },
     "execution_count": 182,
     "metadata": {},
     "output_type": "execute_result"
    },
    {
     "data": {
      "image/png": "[encoded data removed]",
      "text/plain": [
       "<Figure size 864x720 with 1 Axes>"
      ]
     },
     "metadata": {
      "needs_background": "light"
     },
     "output_type": "display_data"
    }
   ],
   "source": [
    "fig, ax = plt.subplots(figsize=(12, 10))\n",
    "ax.set_title(\"Trainable Quanv NN vs CNN\", fontsize=22)\n",
    "ax.set_xlabel(\"epochs\",     fontsize=18)\n",
    "ax.set_ylabel(\"1-accuracy\", fontsize=18)\n",
    "ax.tick_params(axis=\"both\", which=\"major\", labelsize=18, length=5)\n",
    "ax.grid\n",
    "\n",
    "colors = [\"orange\", \"darkorange\", \"cornflowerblue\", \"royalblue\"]\n",
    "labels = [\"classical training\", \"classical validation\", \"quantum training\", \"quantum validation\"]\n",
    "keys   = [\"accuracy\", \"val_accuracy\"]\n",
    "style  = [\"dashed\", \"solid\"]*2\n",
    "performances = [cnn_history.history[key] for key in keys] + [qcnn_history.history[key] for key in keys]\n",
    "\n",
    "for i in range(4):\n",
    "    ax.plot(\n",
    "        np.arange(0, 15, 1), 1-np.array(performances[i]),\n",
    "        lw    = 3,\n",
    "        linestyle = style[i],\n",
    "        label = labels[i],\n",
    "        color = colors[i]\n",
    "    )\n",
    "\n",
    "#ax.set_ylim(0,1)\n",
    "ax.set_yscale(\"log\")\n",
    "\n",
    "ax.legend(\n",
    "    fontsize=14\n",
    ")"
   ]
  },
  {
   "cell_type": "code",
   "execution_count": null,
   "metadata": {},
   "outputs": [],
   "source": []
  }
 ],
 "metadata": {
  "language_info": {
   "name": "python"
  },
  "orig_nbformat": 4
 },
 "nbformat": 4,
 "nbformat_minor": 2
}
