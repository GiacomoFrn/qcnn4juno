{
 "cells": [
  {
   "cell_type": "code",
   "execution_count": 33,
   "metadata": {},
   "outputs": [],
   "source": [
    "import tensorflow as tf\n",
    "\n",
    "from tensorflow.keras import datasets, layers, models\n",
    "from tensorflow import keras\n",
    "\n",
    "import numpy as np\n",
    "import collections\n",
    "import pandas as pd\n",
    "\n",
    "import matplotlib.pyplot as plt\n",
    "\n",
    "import pickle\n",
    "import glob\n",
    "import re\n",
    "import os\n",
    "\n",
    "from tqdm import tqdm\n",
    "from scipy.optimize import curve_fit"
   ]
  },
  {
   "cell_type": "markdown",
   "metadata": {},
   "source": [
    "# Upload test dataset"
   ]
  },
  {
   "cell_type": "code",
   "execution_count": 14,
   "metadata": {},
   "outputs": [],
   "source": [
    "def atoi(text):\n",
    "    return int(text) if text.isdigit() else text\n",
    "\n",
    "def natural_keys(text):\n",
    "    '''\n",
    "    alist.sort(key=natural_keys) sorts in human order\n",
    "    http://nedbatchelder.com/blog/200712/human_sorting.html\n",
    "    (See Toothy's implementation in the comments)\n",
    "    '''\n",
    "    return [ atoi(c) for c in re.split(r'(\\d+)', text) ]"
   ]
  },
  {
   "cell_type": "markdown",
   "metadata": {},
   "source": [
    "## File lists"
   ]
  },
  {
   "cell_type": "code",
   "execution_count": 15,
   "metadata": {},
   "outputs": [],
   "source": [
    "data_path    = \"../../juno_data/data/projections/test/e+_1/\"\n",
    "target_path  = \"../../juno_data/data/real/test/targets/e+_1/\"\n",
    "data_files   = os.listdir(data_path) \n",
    "target_files = os.listdir(target_path) \n",
    "\n",
    "test_proj    = [file for file in data_files    if \"proj\" in file]\n",
    "test_target  = [file for file in target_files  if \"targets\" in file]\n",
    "\n",
    "test_proj.sort(key=natural_keys)   \n",
    "test_target.sort(key=natural_keys) "
   ]
  },
  {
   "cell_type": "code",
   "execution_count": 18,
   "metadata": {},
   "outputs": [],
   "source": [
    "test_proj   = test_proj[:50]\n",
    "test_target = test_target[:50]"
   ]
  },
  {
   "cell_type": "markdown",
   "metadata": {},
   "source": [
    "## Load test images"
   ]
  },
  {
   "cell_type": "code",
   "execution_count": 26,
   "metadata": {},
   "outputs": [
    {
     "name": "stderr",
     "output_type": "stream",
     "text": [
      "100%|████████████████████████████████████████████████████████████████████████████████████████| 50/50 [04:43<00:00,  5.68s/it]\n"
     ]
    },
    {
     "data": {
      "text/plain": [
       "(50000, 230, 124, 2)"
      ]
     },
     "execution_count": 26,
     "metadata": {},
     "output_type": "execute_result"
    }
   ],
   "source": [
    "#test_images = np.empty(shape=(0, 230, 124, 2))\n",
    "\n",
    "test_images = np.concatenate([np.load(data_path + file)[\"arr_0\"] for file in tqdm(test_proj)])\n",
    "\n",
    "#for file in tqdm(test_proj):\n",
    "#    f   = np.load(data_path + file)[\"arr_0\"]\n",
    "#    test_images = np.concatenate((test_images, f), axis=0)\n",
    "    \n",
    "\n",
    "# nan to zero \n",
    "test_images[np.isnan(test_images)] = 0\n",
    "\n",
    "test_images.shape"
   ]
  },
  {
   "cell_type": "markdown",
   "metadata": {},
   "source": [
    "## Load test targets"
   ]
  },
  {
   "cell_type": "code",
   "execution_count": 27,
   "metadata": {},
   "outputs": [
    {
     "name": "stderr",
     "output_type": "stream",
     "text": [
      "100%|████████████████████████████████████████████████████████████████████████████████████████| 50/50 [00:00<00:00, 60.53it/s]\n"
     ]
    },
    {
     "data": {
      "text/plain": [
       "(50000,)"
      ]
     },
     "execution_count": 27,
     "metadata": {},
     "output_type": "execute_result"
    }
   ],
   "source": [
    "#test_labels = np.empty(shape=(0))\n",
    "\n",
    "test_labels = np.concatenate([pd.read_csv(target_path + file)[\"edep\"].to_numpy() for file in tqdm(test_target)])\n",
    "\n",
    "#for file in tqdm(test_target):\n",
    "#    f   = pd.read_csv(target_path + file)[\"edep\"].to_numpy()\n",
    "#    test_labels = np.concatenate((test_labels, f), axis=0)\n",
    "    \n",
    "test_labels.shape"
   ]
  },
  {
   "cell_type": "markdown",
   "metadata": {},
   "source": [
    "# Adaptive LR object"
   ]
  },
  {
   "cell_type": "code",
   "execution_count": 28,
   "metadata": {},
   "outputs": [],
   "source": [
    "#******CUSTOM LEARNING RATE******#\n",
    "class MyLRSchedule(tf.keras.optimizers.schedules.LearningRateSchedule):\n",
    "\n",
    "  def __init__(self, initial_learning_rate, epochs, steps_per_epoch):\n",
    "    self.initial_learning_rate = initial_learning_rate\n",
    "    self.epochs = epochs\n",
    "    self.steps_per_epoch = steps_per_epoch\n",
    "    self.m = initial_learning_rate / steps_per_epoch\n",
    "    self.decay_rate = tf.constant((10**-8 / initial_learning_rate)**(((epochs - 1)*steps_per_epoch)**-1), dtype=tf.float32)\n",
    "    print('decay_rate:', self.decay_rate)\n",
    "\n",
    "  def __call__(self, step):\n",
    "    result = tf.cond(tf.less(step, self.steps_per_epoch), \n",
    "                   lambda: self.m * (step+1),\n",
    "                   lambda: self.initial_learning_rate * self.decay_rate**tf.cast(step+1-self.steps_per_epoch, dtype=tf.float32))\n",
    "\n",
    "    tf.print('lr at step', step, 'is', result, output_stream='file://learning_rates.txt')\n",
    "    return result  \n",
    "\n",
    "  def get_config(self):\n",
    "      return {\n",
    "          \"initial_learning_rate\": self.initial_learning_rate,\n",
    "          \"epochs\": self.epochs,\n",
    "          \"steps_per_epoch\": self.steps_per_epoch\n",
    "      }"
   ]
  },
  {
   "cell_type": "markdown",
   "metadata": {},
   "source": [
    "## Load ResNet model"
   ]
  },
  {
   "cell_type": "code",
   "execution_count": 29,
   "metadata": {},
   "outputs": [
    {
     "name": "stdout",
     "output_type": "stream",
     "text": [
      "decay_rate: tf.Tensor(0.9999085, shape=(), dtype=float32)\n"
     ]
    }
   ],
   "source": [
    "resnet_model = tf.keras.models.load_model(\"./models/20220603-161936/\", custom_objects={'MyLRSchedule': MyLRSchedule})"
   ]
  },
  {
   "cell_type": "markdown",
   "metadata": {},
   "source": [
    "# PREDICTION"
   ]
  },
  {
   "cell_type": "code",
   "execution_count": null,
   "metadata": {},
   "outputs": [],
   "source": [
    "# make predicitons\n",
    "edep_pred = resnet_model.predict(test_images, verbose=0)\n",
    "edep_pred = edep_pred.reshape(edep_pred.shape[0],)\n",
    "edep_pred.shape"
   ]
  },
  {
   "cell_type": "code",
   "execution_count": 31,
   "metadata": {},
   "outputs": [],
   "source": [
    "# 3sigma cut\n",
    "res = (edep_pred-test_labels)/test_labels\n",
    "res = res[np.abs(res - res.mean()) < 3*res.std()]"
   ]
  },
  {
   "cell_type": "code",
   "execution_count": 36,
   "metadata": {},
   "outputs": [
    {
     "data": {
      "image/png": "[encoded data removed]",
      "text/plain": [
       "<Figure size 864x504 with 1 Axes>"
      ]
     },
     "metadata": {
      "needs_background": "light"
     },
     "output_type": "display_data"
    }
   ],
   "source": [
    "def gaus(x, a, mu, sigma):\n",
    "    return a*np.exp( -(x-mu)**2 / (2*sigma**2) )\n",
    "\n",
    "hist, edges = np.histogram(res, bins=100)\n",
    "bincenters = (edges[1:] + edges[:-1]) / 2\n",
    "\n",
    "xgrid = np.linspace(edges[0], edges[-1], 500)\n",
    "\n",
    "n     = res.shape[0]\n",
    "mean  = res.mean()\n",
    "sigma = res.std()\n",
    "popt, pcov = curve_fit(gaus, bincenters, hist, p0=[n, mean, sigma])\n",
    "\n",
    "n_events   = edep_pred.shape[0]\n",
    "resolution = popt[2]\n",
    "bias       = popt[1]\n",
    "\n",
    "fig = plt.figure(figsize=(12,7), constrained_layout=True)\n",
    "ax  = fig.add_subplot(111)\n",
    "\n",
    "ax.hist(bincenters, weights=hist, bins=100)\n",
    "ax.plot(xgrid, gaus(xgrid, *popt), lw=3)\n",
    "ax.text(0.65, 0.75, f\"number of events = {n_events}\", fontsize=18,transform=ax.transAxes)\n",
    "ax.text(0.65, 0.7, f\"resolution = {resolution*100:.2f}%\", fontsize=18,transform=ax.transAxes)\n",
    "ax.text(0.65, 0.65, f\"bias = {abs(bias)*100:.2f}%\", fontsize=18,transform=ax.transAxes)\n",
    "\n",
    "ax.set_title(\"E$_e$ = 1 MeV\", fontsize=18)\n",
    "ax.set_xlabel(\"(E$_{pred}$ - E$_{true}$) / E$_{true}$\", fontsize=16)\n",
    "ax.set_ylabel(\"counts\", fontsize=16)\n",
    "\n",
    "\n",
    "# ax.set_yscale(\"log\")\n",
    "\n",
    "ax.tick_params(axis=\"both\", which=\"major\", labelsize=14, length=5)\n",
    "\n",
    "fig.savefig(\"./plots/e_1mev_hist_resnet115.png\", dpi=300, facecolor=\"white\")\n",
    "\n",
    "plt.show()"
   ]
  },
  {
   "cell_type": "code",
   "execution_count": null,
   "metadata": {},
   "outputs": [],
   "source": []
  }
 ],
 "metadata": {
  "interpreter": {
   "hash": "c764765d3a23b82ea6dc8b51e68f828b52dfa8d66dff00b67cebce7fa206e036"
  },
  "kernelspec": {
   "display_name": "Python 3 (ipykernel)",
   "language": "python",
   "name": "python3"
  },
  "language_info": {
   "codemirror_mode": {
    "name": "ipython",
    "version": 3
   },
   "file_extension": ".py",
   "mimetype": "text/x-python",
   "name": "python",
   "nbconvert_exporter": "python",
   "pygments_lexer": "ipython3",
   "version": "3.9.12"
  }
 },
 "nbformat": 4,
 "nbformat_minor": 4
}
