{
 "cells": [
  {
   "cell_type": "code",
   "execution_count": 1,
   "metadata": {},
   "outputs": [],
   "source": [
    "import tensorflow as tf\n",
    "\n",
    "from tensorflow.keras import datasets, layers, models\n",
    "from tensorflow import keras\n",
    "\n",
    "import numpy as np\n",
    "import collections\n",
    "import pandas as pd\n",
    "\n",
    "import matplotlib.pyplot as plt"
   ]
  },
  {
   "cell_type": "markdown",
   "metadata": {},
   "source": [
    "## Upload test dataset"
   ]
  },
  {
   "cell_type": "code",
   "execution_count": null,
   "metadata": {},
   "outputs": [],
   "source": [
    "# change path/ upload all 1Mev Test\n",
    "test_mat = np.load(\"./proj_raw_data_test_0.npz\")['arr_0']\n",
    "test_labels = np.array(pd.read_csv(\"targets_test_0.csv\")[\"edep\"])"
   ]
  },
  {
   "cell_type": "code",
   "execution_count": null,
   "metadata": {},
   "outputs": [],
   "source": [
    "# nan to zero \n",
    "test_mat[np.isnan(test_mat)] = 0"
   ]
  },
  {
   "cell_type": "markdown",
   "metadata": {},
   "source": [
    "## Define costum objects"
   ]
  },
  {
   "cell_type": "code",
   "execution_count": null,
   "metadata": {},
   "outputs": [],
   "source": [
    "#******CUSTOM LEARNING RATE******#\n",
    "class MyLRSchedule(tf.keras.optimizers.schedules.LearningRateSchedule):\n",
    "\n",
    "  def __init__(self, initial_learning_rate, epochs, steps_per_epoch):\n",
    "    self.initial_learning_rate = initial_learning_rate\n",
    "    self.epochs = epochs\n",
    "    self.steps_per_epoch = steps_per_epoch\n",
    "    self.m = initial_learning_rate / steps_per_epoch\n",
    "    self.decay_rate = tf.constant((10**-8 / initial_learning_rate)**(((epochs - 1)*steps_per_epoch)**-1), dtype=tf.float32)\n",
    "    print('decay_rate:', self.decay_rate)\n",
    "\n",
    "  def __call__(self, step):\n",
    "    result = tf.cond(tf.less(step, self.steps_per_epoch), \n",
    "                   lambda: self.m * (step+1),\n",
    "                   lambda: self.initial_learning_rate * self.decay_rate**tf.cast(step+1-self.steps_per_epoch, dtype=tf.float32))\n",
    "\n",
    "    tf.print('lr at step', step, 'is', result, output_stream='file://learning_rates.txt')\n",
    "    return result  \n",
    "\n",
    "  def get_config(self):\n",
    "      return {\n",
    "          \"initial_learning_rate\": self.initial_learning_rate,\n",
    "          \"epochs\": self.epochs,\n",
    "          \"steps_per_epoch\": self.steps_per_epoch\n",
    "      }"
   ]
  },
  {
   "cell_type": "markdown",
   "metadata": {},
   "source": [
    "## Upload and test resnet model"
   ]
  },
  {
   "cell_type": "code",
   "execution_count": null,
   "metadata": {},
   "outputs": [],
   "source": [
    "resnet_model = tf.keras.models.load_model(\"./20220603-143050\", custom_objects={'MyLRSchedule': MyLRSchedule})"
   ]
  },
  {
   "cell_type": "code",
   "execution_count": null,
   "metadata": {},
   "outputs": [],
   "source": [
    "# make predicitons\n",
    "edep_pred = resnet_model.predict(test_mat)\n",
    "edep_pred = edep_pred.reshape(len(edep_pred), )"
   ]
  },
  {
   "cell_type": "code",
   "execution_count": null,
   "metadata": {},
   "outputs": [],
   "source": [
    "fig = plt.figure(figsize=(14,8))\n",
    "plt.hist(edep_pred-test_labels, bins=100)\n",
    "plt.xlabel(\"E_pred - E_true, MeV\")\n",
    "plt.show()"
   ]
  },
  {
   "cell_type": "code",
   "execution_count": null,
   "metadata": {},
   "outputs": [],
   "source": [
    "# 3sigma cut\n",
    "res = (edep_pred-test_labels)/test_labels\n",
    "res = res[np.abs(res - res.mean()) < 3*res.std()]"
   ]
  },
  {
   "cell_type": "code",
   "execution_count": null,
   "metadata": {},
   "outputs": [],
   "source": [
    "fig = plt.figure(figsize=(14,8))\n",
    "plt.hist(res, bins=100)\n",
    "plt.xlabel(\"res, MeV\")\n",
    "plt.show()"
   ]
  }
 ],
 "metadata": {
  "interpreter": {
   "hash": "c764765d3a23b82ea6dc8b51e68f828b52dfa8d66dff00b67cebce7fa206e036"
  },
  "kernelspec": {
   "display_name": "Python 3.9.5 ('base')",
   "language": "python",
   "name": "python3"
  },
  "language_info": {
   "codemirror_mode": {
    "name": "ipython",
    "version": 3
   },
   "file_extension": ".py",
   "mimetype": "text/x-python",
   "name": "python",
   "nbconvert_exporter": "python",
   "pygments_lexer": "ipython3",
   "version": "3.9.5"
  },
  "orig_nbformat": 4
 },
 "nbformat": 4,
 "nbformat_minor": 2
}
